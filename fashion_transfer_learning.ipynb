{
 "cells": [
  {
   "cell_type": "code",
   "execution_count": null,
   "metadata": {
    "colab": {},
    "colab_type": "code",
    "id": "HyhIotBdnpIZ"
   },
   "outputs": [],
   "source": [
    "# !ls\n",
    "# !wget --load-cookies /tmp/cookies.txt \"https://docs.google.com/uc?export=download&confirm=$(wget --quiet --save-cookies /tmp/cookies.txt --keep-session-cookies --no-check-certificate 'https://docs.google.com/uc?export=download&id=1gsajB2iQN6_5pAWSu3MubsdR1-Mus4PH' -O- | sed -rn 's/.*confirm=([0-9A-Za-z_]+).*/\\1\\n/p')&id=1gsajB2iQN6_5pAWSu3MubsdR1-Mus4PH\" -O fashion_full_upd.zip && rm -rf /tmp/cookies.txt\n",
    "# !unzip -qq /content/fashion_full_upd.zip -d fashion_full\n",
    "# !mkdir checkpoints"
   ]
  },
  {
   "cell_type": "code",
   "execution_count": null,
   "metadata": {
    "colab": {},
    "colab_type": "code",
    "id": "0ptP-xePJ8rA"
   },
   "outputs": [],
   "source": [
    "# from google.colab import drive\n",
    "# drive.mount('/content/drive')"
   ]
  },
  {
   "cell_type": "code",
   "execution_count": null,
   "metadata": {
    "colab": {},
    "colab_type": "code",
    "id": "6NIh7oglwnMb"
   },
   "outputs": [],
   "source": [
    "import numpy as np\n",
    "import pandas as pd\n",
    "from PIL import Image\n",
    "import os\n",
    "import torch\n",
    "import torchvision\n",
    "import torch.nn as nn\n",
    "import torch.optim as optim\n",
    "import data_utils\n",
    "import nn_utils\n",
    "import importlib\n",
    "from data_utils import load_data, train_test_split_fashion, get_dataloaders\n",
    "from nn_utils import correct_top_k, get_class_weights, plot_losses, get_accuracy, train, compute_loss\n",
    "from torch.utils.data import Subset\n",
    "from sklearn.model_selection import train_test_split\n",
    "from torchvision.transforms import Compose, ToTensor, Resize, Normalize\n",
    "from torch.utils.data import DataLoader\n",
    "\n",
    "importlib.reload(data_utils)\n",
    "importlib.reload(nn_utils)"
   ]
  },
  {
   "cell_type": "code",
   "execution_count": null,
   "metadata": {
    "colab": {},
    "colab_type": "code",
    "id": "oA4yc2uwn1hY"
   },
   "outputs": [],
   "source": [
    "data_path = './fashion_full_upd/'\n",
    "#data_path = '/content/fashion_full/fashion_full_upd/'\n",
    "\n",
    "dataloader_params = {'batch_size': 64,\n",
    "                     'shuffle': True,\n",
    "                     'num_workers': 8}\n",
    "resize_normalize_transform = Compose([Resize((224, 224)), ToTensor(), Normalize((0.5, 0.5, 0.5), (0.5, 0.5, 0.5))])\n",
    "val_split = 0.2\n",
    "n_epochs = 20\n",
    "learning_rate = 0.0001\n",
    "seed = 0\n",
    "\n",
    "# set the seed\n",
    "torch.manual_seed(seed)\n",
    "np.random.seed(seed)\n",
    "\n",
    "styles_df = load_data(data_path)\n",
    "styles_df_train, styles_df_test = train_test_split_fashion(styles_df)\n",
    "sorted_class_names = list(styles_df.groupby(['articleType']).size().sort_values(ascending=False).index)\n",
    "\n",
    "dataloaders = get_dataloaders(styles_df_train, \n",
    "                              styles_df_test,\n",
    "                              sorted_class_names,\n",
    "                              data_path, \n",
    "                              val_split, \n",
    "                              resize_normalize_transform, \n",
    "                              dataloader_params)"
   ]
  },
  {
   "cell_type": "code",
   "execution_count": null,
   "metadata": {
    "colab": {
     "base_uri": "https://localhost:8080/",
     "height": 35
    },
    "colab_type": "code",
    "id": "dWEOZbINnpIi",
    "outputId": "e6f6b64a-15bb-4215-b6a9-b49977fff045"
   },
   "outputs": [],
   "source": [
    "device = 'cuda' if torch.cuda.is_available() else 'cpu'\n",
    "print('Using {}'.format(device))\n",
    "\n",
    "class_weights = get_class_weights(styles_df_train, sorted_class_names)\n",
    "class_weights = torch.tensor(class_weights,  dtype=torch.float)\n",
    "class_weights = class_weights.to(device)\n",
    "\n",
    "criterion = nn.CrossEntropyLoss(weight=class_weights)"
   ]
  },
  {
   "cell_type": "code",
   "execution_count": null,
   "metadata": {
    "colab": {
     "base_uri": "https://localhost:8080/",
     "height": 86,
     "referenced_widgets": [
      "ecd230564c364c52a8fac743f27b08c2",
      "134d0c6b55384ed3a73f0e373e7bdd56",
      "f9dc0a8ed28949cc8526ac3110c7f2dc",
      "1a8e6713c01c45138dbd7174df620d2b",
      "e91fbab50cd948f1a6ff6aeb605029b5",
      "76834112b18a41fdbfbc28915c6997f0",
      "51cca3851f944604ab9d88b08a455985",
      "53b01cbcddbb492181f4d32b6916c844"
     ]
    },
    "colab_type": "code",
    "id": "k9UjLAO9a5tq",
    "outputId": "4262fbc2-ab54-49fd-8748-60edf2c7d5d9"
   },
   "outputs": [],
   "source": [
    "model = torchvision.models.resnet50(pretrained=True)\n",
    "\n",
    "# reinitialize the fc layer\n",
    "model.fc = nn.Linear(model.fc.in_features, len(class_weights))\n",
    "model = model.to(device)\n",
    "    \n",
    "optimizer = optim.Adam(model.parameters(), lr=learning_rate)"
   ]
  },
  {
   "cell_type": "code",
   "execution_count": null,
   "metadata": {
    "colab": {},
    "colab_type": "code",
    "id": "mGEtmAM5_cDf"
   },
   "outputs": [],
   "source": [
    "if False:\n",
    "    checkpoint = torch.load('./checkpoints/checkpoint.pt')\n",
    "    model.load_state_dict(checkpoint['model_state_dict'])\n",
    "    # optimizer.load_state_dict(checkpoint['optimizer_state_dict'])"
   ]
  },
  {
   "cell_type": "code",
   "execution_count": null,
   "metadata": {
    "colab": {
     "base_uri": "https://localhost:8080/",
     "height": 384
    },
    "colab_type": "code",
    "id": "Z55jgixjnpIv",
    "outputId": "ec870434-7c59-4b9d-eec5-c98ce9712ca5"
   },
   "outputs": [],
   "source": [
    "train_losses, val_losses, model = train(dataloader_train = dataloaders['train_top20'], \n",
    "                                        dataloader_val = dataloaders['val_top20'],\n",
    "                                        n_epochs = n_epochs, \n",
    "                                        model = model, \n",
    "                                        criterion = criterion, \n",
    "                                        optimizer = optimizer, \n",
    "                                        device = device,\n",
    "                                        load_checkpoint_path = None,\n",
    "                                        checkpoint_save_path = './checkpoints/checkpoint.pt')"
   ]
  },
  {
   "cell_type": "code",
   "execution_count": null,
   "metadata": {
    "colab": {
     "base_uri": "https://localhost:8080/",
     "height": 279
    },
    "colab_type": "code",
    "id": "vbBAleC0wy9O",
    "outputId": "806b0124-3caa-4ec0-f714-3afa3fc92a63"
   },
   "outputs": [],
   "source": [
    "plot_losses(train_losses, val_losses)"
   ]
  },
  {
   "cell_type": "code",
   "execution_count": null,
   "metadata": {
    "colab": {},
    "colab_type": "code",
    "id": "nBa2UtgV8mc2"
   },
   "outputs": [],
   "source": [
    "class_correct_topk, class_counts = correct_top_k(dataloader = dataloaders['test'],\n",
    "                                                 model = model,\n",
    "                                                 k_list = [1, 5],\n",
    "                                                 n_classes = len(class_weights), \n",
    "                                                 device=device)"
   ]
  },
  {
   "cell_type": "code",
   "execution_count": null,
   "metadata": {
    "colab": {
     "base_uri": "https://localhost:8080/",
     "height": 1000
    },
    "colab_type": "code",
    "id": "xK0wPTZH9HpV",
    "outputId": "e773ae16-ff10-4ff3-cc26-b1501377ae1c"
   },
   "outputs": [],
   "source": [
    "get_accuracy(class_correct_topk, class_counts)"
   ]
  },
  {
   "cell_type": "code",
   "execution_count": null,
   "metadata": {
    "colab": {
     "base_uri": "https://localhost:8080/",
     "height": 384
    },
    "colab_type": "code",
    "id": "Oh1Fe3RVIPvr",
    "outputId": "87e42716-9044-4297-bc27-c61fa3e83b65"
   },
   "outputs": [],
   "source": [
    "others_train_losses, others_val_losses, model = train(dataloader_train = dataloaders['train_others'], \n",
    "                                                      dataloader_val = dataloaders['val_others'], \n",
    "                                                      n_epochs = n_epochs, \n",
    "                                                      model = model, \n",
    "                                                      criterion = criterion, \n",
    "                                                      optimizer = optimizer, \n",
    "                                                      device = device,\n",
    "                                                      load_checkpoint_path = None,\n",
    "                                                      checkpoint_save_path='./checkpoints/checkpoint_finetuned.pt')"
   ]
  },
  {
   "cell_type": "code",
   "execution_count": null,
   "metadata": {
    "colab": {},
    "colab_type": "code",
    "id": "o4Q-oyc4n4pg"
   },
   "outputs": [],
   "source": [
    "if True:\n",
    "    checkpoint = torch.load('./checkpoints/checkpoint_finetuned.pt')\n",
    "    model.load_state_dict(checkpoint['model_state_dict'])\n",
    "    # optimizer.load_state_dict(checkpoint['optimizer_state_dict'])"
   ]
  },
  {
   "cell_type": "code",
   "execution_count": null,
   "metadata": {
    "colab": {},
    "colab_type": "code",
    "id": "ldD5AArGwxW1"
   },
   "outputs": [],
   "source": [
    "class_correct_topk_others, class_counts_others = correct_top_k(dataloader = dataloaders['test'],\n",
    "                                                               model = model,\n",
    "                                                               k_list = [1, 5],\n",
    "                                                               n_classes = len(class_weights), \n",
    "                                                               device=device)"
   ]
  },
  {
   "cell_type": "code",
   "execution_count": null,
   "metadata": {
    "colab": {
     "base_uri": "https://localhost:8080/",
     "height": 1000
    },
    "colab_type": "code",
    "id": "_ZmLA0UL48pU",
    "outputId": "165a9ec5-76d4-4efc-9f68-ef0dd8004b02"
   },
   "outputs": [],
   "source": [
    "get_accuracy(class_correct_topk_others, class_counts_others)"
   ]
  },
  {
   "cell_type": "code",
   "execution_count": null,
   "metadata": {
    "colab": {
     "base_uri": "https://localhost:8080/",
     "height": 279
    },
    "colab_type": "code",
    "id": "IYDn9UhV5xEw",
    "outputId": "65a6c03d-7f21-44cd-d120-8afa666e4fc5"
   },
   "outputs": [],
   "source": [
    "plot_losses(others_train_losses, others_val_losses)"
   ]
  },
  {
   "cell_type": "code",
   "execution_count": null,
   "metadata": {
    "colab": {},
    "colab_type": "code",
    "id": "F36-DuX2uqY6"
   },
   "outputs": [],
   "source": []
  }
 ],
 "metadata": {
  "accelerator": "GPU",
  "colab": {
   "collapsed_sections": [],
   "name": "fashion_transfer_learning.ipynb",
   "provenance": []
  },
  "kernelspec": {
   "display_name": "Python 3",
   "language": "python",
   "name": "python3"
  },
  "language_info": {
   "codemirror_mode": {
    "name": "ipython",
    "version": 3
   },
   "file_extension": ".py",
   "mimetype": "text/x-python",
   "name": "python",
   "nbconvert_exporter": "python",
   "pygments_lexer": "ipython3",
   "version": "3.7.7"
  },
  "widgets": {
   "application/vnd.jupyter.widget-state+json": {
    "134d0c6b55384ed3a73f0e373e7bdd56": {
     "model_module": "@jupyter-widgets/base",
     "model_name": "LayoutModel",
     "state": {
      "_model_module": "@jupyter-widgets/base",
      "_model_module_version": "1.2.0",
      "_model_name": "LayoutModel",
      "_view_count": null,
      "_view_module": "@jupyter-widgets/base",
      "_view_module_version": "1.2.0",
      "_view_name": "LayoutView",
      "align_content": null,
      "align_items": null,
      "align_self": null,
      "border": null,
      "bottom": null,
      "display": null,
      "flex": null,
      "flex_flow": null,
      "grid_area": null,
      "grid_auto_columns": null,
      "grid_auto_flow": null,
      "grid_auto_rows": null,
      "grid_column": null,
      "grid_gap": null,
      "grid_row": null,
      "grid_template_areas": null,
      "grid_template_columns": null,
      "grid_template_rows": null,
      "height": null,
      "justify_content": null,
      "justify_items": null,
      "left": null,
      "margin": null,
      "max_height": null,
      "max_width": null,
      "min_height": null,
      "min_width": null,
      "object_fit": null,
      "object_position": null,
      "order": null,
      "overflow": null,
      "overflow_x": null,
      "overflow_y": null,
      "padding": null,
      "right": null,
      "top": null,
      "visibility": null,
      "width": null
     }
    },
    "1a8e6713c01c45138dbd7174df620d2b": {
     "model_module": "@jupyter-widgets/controls",
     "model_name": "HTMLModel",
     "state": {
      "_dom_classes": [],
      "_model_module": "@jupyter-widgets/controls",
      "_model_module_version": "1.5.0",
      "_model_name": "HTMLModel",
      "_view_count": null,
      "_view_module": "@jupyter-widgets/controls",
      "_view_module_version": "1.5.0",
      "_view_name": "HTMLView",
      "description": "",
      "description_tooltip": null,
      "layout": "IPY_MODEL_53b01cbcddbb492181f4d32b6916c844",
      "placeholder": "​",
      "style": "IPY_MODEL_51cca3851f944604ab9d88b08a455985",
      "value": " 97.8M/97.8M [00:20&lt;00:00, 5.10MB/s]"
     }
    },
    "51cca3851f944604ab9d88b08a455985": {
     "model_module": "@jupyter-widgets/controls",
     "model_name": "DescriptionStyleModel",
     "state": {
      "_model_module": "@jupyter-widgets/controls",
      "_model_module_version": "1.5.0",
      "_model_name": "DescriptionStyleModel",
      "_view_count": null,
      "_view_module": "@jupyter-widgets/base",
      "_view_module_version": "1.2.0",
      "_view_name": "StyleView",
      "description_width": ""
     }
    },
    "53b01cbcddbb492181f4d32b6916c844": {
     "model_module": "@jupyter-widgets/base",
     "model_name": "LayoutModel",
     "state": {
      "_model_module": "@jupyter-widgets/base",
      "_model_module_version": "1.2.0",
      "_model_name": "LayoutModel",
      "_view_count": null,
      "_view_module": "@jupyter-widgets/base",
      "_view_module_version": "1.2.0",
      "_view_name": "LayoutView",
      "align_content": null,
      "align_items": null,
      "align_self": null,
      "border": null,
      "bottom": null,
      "display": null,
      "flex": null,
      "flex_flow": null,
      "grid_area": null,
      "grid_auto_columns": null,
      "grid_auto_flow": null,
      "grid_auto_rows": null,
      "grid_column": null,
      "grid_gap": null,
      "grid_row": null,
      "grid_template_areas": null,
      "grid_template_columns": null,
      "grid_template_rows": null,
      "height": null,
      "justify_content": null,
      "justify_items": null,
      "left": null,
      "margin": null,
      "max_height": null,
      "max_width": null,
      "min_height": null,
      "min_width": null,
      "object_fit": null,
      "object_position": null,
      "order": null,
      "overflow": null,
      "overflow_x": null,
      "overflow_y": null,
      "padding": null,
      "right": null,
      "top": null,
      "visibility": null,
      "width": null
     }
    },
    "76834112b18a41fdbfbc28915c6997f0": {
     "model_module": "@jupyter-widgets/base",
     "model_name": "LayoutModel",
     "state": {
      "_model_module": "@jupyter-widgets/base",
      "_model_module_version": "1.2.0",
      "_model_name": "LayoutModel",
      "_view_count": null,
      "_view_module": "@jupyter-widgets/base",
      "_view_module_version": "1.2.0",
      "_view_name": "LayoutView",
      "align_content": null,
      "align_items": null,
      "align_self": null,
      "border": null,
      "bottom": null,
      "display": null,
      "flex": null,
      "flex_flow": null,
      "grid_area": null,
      "grid_auto_columns": null,
      "grid_auto_flow": null,
      "grid_auto_rows": null,
      "grid_column": null,
      "grid_gap": null,
      "grid_row": null,
      "grid_template_areas": null,
      "grid_template_columns": null,
      "grid_template_rows": null,
      "height": null,
      "justify_content": null,
      "justify_items": null,
      "left": null,
      "margin": null,
      "max_height": null,
      "max_width": null,
      "min_height": null,
      "min_width": null,
      "object_fit": null,
      "object_position": null,
      "order": null,
      "overflow": null,
      "overflow_x": null,
      "overflow_y": null,
      "padding": null,
      "right": null,
      "top": null,
      "visibility": null,
      "width": null
     }
    },
    "e91fbab50cd948f1a6ff6aeb605029b5": {
     "model_module": "@jupyter-widgets/controls",
     "model_name": "ProgressStyleModel",
     "state": {
      "_model_module": "@jupyter-widgets/controls",
      "_model_module_version": "1.5.0",
      "_model_name": "ProgressStyleModel",
      "_view_count": null,
      "_view_module": "@jupyter-widgets/base",
      "_view_module_version": "1.2.0",
      "_view_name": "StyleView",
      "bar_color": null,
      "description_width": "initial"
     }
    },
    "ecd230564c364c52a8fac743f27b08c2": {
     "model_module": "@jupyter-widgets/controls",
     "model_name": "HBoxModel",
     "state": {
      "_dom_classes": [],
      "_model_module": "@jupyter-widgets/controls",
      "_model_module_version": "1.5.0",
      "_model_name": "HBoxModel",
      "_view_count": null,
      "_view_module": "@jupyter-widgets/controls",
      "_view_module_version": "1.5.0",
      "_view_name": "HBoxView",
      "box_style": "",
      "children": [
       "IPY_MODEL_f9dc0a8ed28949cc8526ac3110c7f2dc",
       "IPY_MODEL_1a8e6713c01c45138dbd7174df620d2b"
      ],
      "layout": "IPY_MODEL_134d0c6b55384ed3a73f0e373e7bdd56"
     }
    },
    "f9dc0a8ed28949cc8526ac3110c7f2dc": {
     "model_module": "@jupyter-widgets/controls",
     "model_name": "FloatProgressModel",
     "state": {
      "_dom_classes": [],
      "_model_module": "@jupyter-widgets/controls",
      "_model_module_version": "1.5.0",
      "_model_name": "FloatProgressModel",
      "_view_count": null,
      "_view_module": "@jupyter-widgets/controls",
      "_view_module_version": "1.5.0",
      "_view_name": "ProgressView",
      "bar_style": "success",
      "description": "100%",
      "description_tooltip": null,
      "layout": "IPY_MODEL_76834112b18a41fdbfbc28915c6997f0",
      "max": 102502400,
      "min": 0,
      "orientation": "horizontal",
      "style": "IPY_MODEL_e91fbab50cd948f1a6ff6aeb605029b5",
      "value": 102502400
     }
    }
   }
  }
 },
 "nbformat": 4,
 "nbformat_minor": 1
}
